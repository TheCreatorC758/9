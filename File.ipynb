{
 "cells": [
  {
   "cell_type": "code",
   "execution_count": 1,
   "metadata": {
    "colab": {
     "base_uri": "https://localhost:8080/",
     "height": 467
    },
    "id": "-S7bs3neF76n",
    "outputId": "7964734c-40f9-4bdd-9971-481782f1382f"
   },
   "outputs": [
    {
     "name": "stdout",
     "output_type": "stream",
     "text": [
      "y = 0, it's a 'non-cat' picture.\n"
     ]
    },
    {
     "data": {
      "image/png": "[encoded data removed]",
      "text/plain": [
       "<Figure size 640x480 with 1 Axes>"
      ]
     },
     "metadata": {},
     "output_type": "display_data"
    }
   ],
   "source": [
    "import numpy as np\n",
    "import matplotlib.pyplot as plt\n",
    "import h5py\n",
    "\n",
    "# Load dataset\n",
    "def load_dataset():\n",
    "    train_dataset = h5py.File('Datasets_9/train_catvnoncat.h5', \"r\")\n",
    "    test_dataset = h5py.File('Datasets_9/test_catvnoncat.h5', \"r\")\n",
    "    return (\n",
    "        np.array(train_dataset[\"train_set_x\"][:]),\n",
    "        np.array(train_dataset[\"train_set_y\"][:]),\n",
    "        np.array(test_dataset[\"test_set_x\"][:]),\n",
    "        np.array(test_dataset[\"test_set_y\"][:]),\n",
    "        np.array(test_dataset[\"list_classes\"][:])\n",
    "    )\n",
    "\n",
    "train_set_x_orig, train_set_y, test_set_x_orig, test_set_y, classes = load_dataset()\n",
    "\n",
    "# Display an image and label\n",
    "index = 17\n",
    "plt.imshow(train_set_x_orig[index])\n",
    "label = \"cat\" if train_set_y[index] == 1 else \"non-cat\"\n",
    "print(f\"y = {train_set_y[index]}, it's a '{label}' picture.\")"
   ]
  },
  {
   "cell_type": "code",
   "execution_count": 17,
   "metadata": {
    "colab": {
     "base_uri": "https://localhost:8080/"
    },
    "id": "0J-gAzXfJs9I",
    "outputId": "9756c15c-177c-4a51-da10-3fc0ca6a7507"
   },
   "outputs": [
    {
     "name": "stdout",
     "output_type": "stream",
     "text": [
      "Dataset dimensions:\n",
      "Number of training examples: m_train = 209\n",
      "Number of testing examples: m_test = 50\n",
      "Height/Width of each image: num_px = 64\n",
      "Each image is of size: (64, 64, 3)\n",
      "train_set_x shape: (209, 64, 64, 3)\n",
      "train_set_y shape: (1, 209)\n",
      "test_set_x shape: (50, 64, 64, 3)\n",
      "test_set_y shape: (1, 50)\n",
      "train_set_x_flatten shape: (12288, 209)\n",
      "train_set_y shape: (1, 209)\n",
      "test_set_x_flatten shape: (12288, 50)\n",
      "test_set_y shape: (1, 50)\n",
      "sanity check after reshaping: [17 31 56 22 33]\n",
      "Logistic Regression Coefficients Shape: (1, 12288)\n",
      "Logistic Regression Coefficients: [[ 0.08090671 -0.10438659 -0.01683361 ... -0.05612977 -0.12381665\n",
      "   0.17725205]]\n",
      "Logistic Regression Intercept: [-0.10425064]\n",
      "Y_prediction shape: (50,)\n",
      "Test accuracy: 72.0 %\n"
     ]
    },
    {
     "name": "stderr",
     "output_type": "stream",
     "text": [
      "C:\\Users\\Vaibhav\\AppData\\Local\\Programs\\Python\\Python310\\lib\\site-packages\\sklearn\\linear_model\\_logistic.py:460: ConvergenceWarning: lbfgs failed to converge (status=1):\n",
      "STOP: TOTAL NO. of ITERATIONS REACHED LIMIT.\n",
      "\n",
      "Increase the number of iterations (max_iter) or scale the data as shown in:\n",
      "    https://scikit-learn.org/stable/modules/preprocessing.html\n",
      "Please also refer to the documentation for alternative solver options:\n",
      "    https://scikit-learn.org/stable/modules/linear_model.html#logistic-regression\n",
      "  n_iter_i = _check_optimize_result(\n"
     ]
    }
   ],
   "source": [
    "import numpy as np\n",
    "import h5py\n",
    "from sklearn.linear_model import LogisticRegression\n",
    "\n",
    "# Loading the data (cat/non-cat)\n",
    "train_dataset = h5py.File('Datasets_9/train_catvnoncat.h5', \"r\")\n",
    "train_set_x_orig = np.array(train_dataset[\"train_set_x\"][:])  # train set features\n",
    "train_set_y_orig = np.array(train_dataset[\"train_set_y\"][:])  # train set labels\n",
    "\n",
    "test_dataset = h5py.File('Datasets_9/test_catvnoncat.h5', \"r\")\n",
    "test_set_x_orig = np.array(test_dataset[\"test_set_x\"][:])  # test set features\n",
    "test_set_y_orig = np.array(test_dataset[\"test_set_y\"][:])  # test set labels\n",
    "\n",
    "classes = np.array(test_dataset[\"list_classes\"][:])  # the list of classes\n",
    "\n",
    "train_set_y = train_set_y_orig.reshape((1, train_set_y_orig.shape[0]))\n",
    "test_set_y = test_set_y_orig.reshape((1, test_set_y_orig.shape[0]))\n",
    "\n",
    "m_train = train_set_x_orig.shape[0]\n",
    "m_test = test_set_x_orig.shape[0]\n",
    "num_px = train_set_x_orig.shape[1]\n",
    "\n",
    "print(\"Dataset dimensions:\")\n",
    "print(\"Number of training examples: m_train =\", m_train)\n",
    "print(\"Number of testing examples: m_test =\", m_test)\n",
    "print(\"Height/Width of each image: num_px =\", num_px)\n",
    "print(\"Each image is of size: (\" + str(num_px) + \", \" + str(num_px) + \", 3)\")\n",
    "print(\"train_set_x shape:\", train_set_x_orig.shape)\n",
    "print(\"train_set_y shape:\", train_set_y.shape)\n",
    "print(\"test_set_x shape:\", test_set_x_orig.shape)\n",
    "print(\"test_set_y shape:\", test_set_y.shape)\n",
    "\n",
    "# Reshape the training and test examples\n",
    "train_set_x_flatten = train_set_x_orig.reshape(train_set_x_orig.shape[0], -1).T\n",
    "test_set_x_flatten = test_set_x_orig.reshape(test_set_x_orig.shape[0], -1).T\n",
    "\n",
    "print(\"train_set_x_flatten shape:\", train_set_x_flatten.shape)\n",
    "print(\"train_set_y shape:\", train_set_y.shape)\n",
    "print(\"test_set_x_flatten shape:\", test_set_x_flatten.shape)\n",
    "print(\"test_set_y shape:\", test_set_y.shape)\n",
    "print(\"sanity check after reshaping:\", train_set_x_flatten[0:5, 0])\n",
    "\n",
    "train_set_x = train_set_x_flatten / 255.\n",
    "test_set_x = test_set_x_flatten / 255.\n",
    "\n",
    "lr = LogisticRegression(C=1000.0, random_state=0)\n",
    "lr.fit(train_set_x.T, train_set_y.T.ravel())\n",
    "\n",
    "print(\"Logistic Regression Coefficients Shape:\", lr.coef_.shape)\n",
    "print(\"Logistic Regression Coefficients:\", lr.coef_)\n",
    "print(\"Logistic Regression Intercept:\", lr.intercept_)\n",
    "\n",
    "Y_prediction = lr.predict(test_set_x.T)\n",
    "print(\"Y_prediction shape:\", Y_prediction.shape)\n",
    "\n",
    "accuracy = 100 - np.mean(np.abs(Y_prediction - test_set_y)) * 100\n",
    "print(\"Test accuracy: {} %\".format(accuracy))"
   ]
  },
  {
   "cell_type": "code",
   "execution_count": null,
   "metadata": {},
   "outputs": [],
   "source": []
  }
 ],
 "metadata": {
  "colab": {
   "provenance": []
  },
  "kernelspec": {
   "display_name": "Python 3 (ipykernel)",
   "language": "python",
   "name": "python3"
  },
  "language_info": {
   "codemirror_mode": {
    "name": "ipython",
    "version": 3
   },
   "file_extension": ".py",
   "mimetype": "text/x-python",
   "name": "python",
   "nbconvert_exporter": "python",
   "pygments_lexer": "ipython3",
   "version": "3.10.4"
  }
 },
 "nbformat": 4,
 "nbformat_minor": 4
}
